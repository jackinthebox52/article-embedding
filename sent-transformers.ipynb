{
 "cells": [
  {
   "cell_type": "code",
   "execution_count": 4,
   "metadata": {},
   "outputs": [],
   "source": [
    "from sentence_transformers import SentenceTransformer\n",
    "from sklearn.metrics.pairwise import cosine_similarity\n",
    "\n",
    "model = SentenceTransformer(\"all-MiniLM-L6-v2\")\n"
   ]
  },
  {
   "cell_type": "code",
   "execution_count": 6,
   "metadata": {},
   "outputs": [
    {
     "name": "stdout",
     "output_type": "stream",
     "text": [
      "Sentence: This framework generates embeddings for each input sentence\n",
      "Embedding: [-0.01, -0.04, -0.02, ...]\n",
      "\n",
      "Sentence: Sentences are passed as a list of string.\n",
      "Embedding: [0.06, 0.06, 0.03, ...]\n",
      "Similarity to previous sentence: 0.54\n",
      "\n",
      "Sentence: The quick brown fox jumps over the lazy dog.\n",
      "Embedding: [0.04, 0.06, 0.05, ...]\n",
      "Similarity to previous sentence: 0.10\n",
      "\n"
     ]
    }
   ],
   "source": [
    "\n",
    "# Our sentences to encode\n",
    "sentences = [\n",
    "    \"This framework generates embeddings for each input sentence\",\n",
    "    \"Sentences are passed as a list of string.\",\n",
    "    \"The quick brown fox jumps over the lazy dog.\"\n",
    "]\n",
    "\n",
    "# Sentences are encoded by calling model.encode()\n",
    "embeddings = model.encode(sentences)\n",
    "last_embedding = None\n",
    "\n",
    "# Print the embeddings\n",
    "for sentence, embedding in zip(sentences, embeddings):\n",
    "    print(\"Sentence:\", sentence)\n",
    "    emb_snip = \", \".join(f\"{val:.2f}\" for val in embedding[:3])\n",
    "    print(f\"Embedding: [{emb_snip}, ...]\")\n",
    "    if last_embedding is not None:\n",
    "        similarity = cosine_similarity([last_embedding], [embedding])[0][0]\n",
    "        print(f\"Similarity to previous sentence: {similarity:.2f}\")\n",
    "    print(\"\")\n",
    "    last_embedding = embedding"
   ]
  }
 ],
 "metadata": {
  "kernelspec": {
   "display_name": "venv",
   "language": "python",
   "name": "python3"
  },
  "language_info": {
   "codemirror_mode": {
    "name": "ipython",
    "version": 3
   },
   "file_extension": ".py",
   "mimetype": "text/x-python",
   "name": "python",
   "nbconvert_exporter": "python",
   "pygments_lexer": "ipython3",
   "version": "3.12.3"
  }
 },
 "nbformat": 4,
 "nbformat_minor": 2
}
